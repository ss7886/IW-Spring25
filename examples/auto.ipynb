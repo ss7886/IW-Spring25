{
 "cells": [
  {
   "cell_type": "code",
   "execution_count": 1,
   "metadata": {},
   "outputs": [],
   "source": [
    "import sys\n",
    "sys.path.append(\"..\")\n",
    "\n",
    "import numpy as np\n",
    "from sklearn.ensemble import RandomForestRegressor\n",
    "from sklearn.tree import DecisionTreeRegressor\n",
    "\n",
    "import dtree\n",
    "import dforest\n",
    "import query"
   ]
  },
  {
   "cell_type": "code",
   "execution_count": 2,
   "metadata": {},
   "outputs": [],
   "source": [
    "missing_data = lambda x : 100. if x == '?' else float(x)\n",
    "data = np.loadtxt(\"../datasets/Auto.data\", converters=missing_data, \n",
    "                    skiprows=1, usecols=[0, 1, 2, 3, 4, 5, 6, 7])\n",
    "\n",
    "np.random.seed(12345)\n",
    "np.random.shuffle(data)\n",
    "np.set_printoptions(precision=1, suppress=True)\n",
    "\n",
    "auto_X = data[:, 1:]\n",
    "auto_y = data[:, 0]"
   ]
  },
  {
   "cell_type": "code",
   "execution_count": 3,
   "metadata": {},
   "outputs": [],
   "source": [
    "model = RandomForestRegressor()\n",
    "model.fit(auto_X, auto_y)\n",
    "\n",
    "forest = dforest.make_forest_sklearn(model)"
   ]
  },
  {
   "cell_type": "code",
   "execution_count": 4,
   "metadata": {},
   "outputs": [],
   "source": [
    "noisy_samples = auto_X + np.random.normal(0, 0.1, auto_X.shape)\n",
    "model_pred = model.predict(noisy_samples)\n",
    "forest_pred = forest.eval(noisy_samples)\n",
    "for i, sample in enumerate(noisy_samples):\n",
    "    assert round(forest_pred[i], 6) == round(model_pred[i], 6)"
   ]
  },
  {
   "cell_type": "code",
   "execution_count": 5,
   "metadata": {},
   "outputs": [
    {
     "name": "stdout",
     "output_type": "stream",
     "text": [
      "Size of forest: 100\n",
      "Average Tree Size: 208.36\n",
      "Avg Max Depth: 14.97\n",
      "Minimum: [9.38, 9.8]\n",
      "Maximum: [43.662000000000056, 45.809]\n"
     ]
    }
   ],
   "source": [
    "forest.print_summary()"
   ]
  },
  {
   "cell_type": "code",
   "execution_count": 6,
   "metadata": {},
   "outputs": [
    {
     "name": "stdout",
     "output_type": "stream",
     "text": [
      "Size of forest: 50\n",
      "Average Tree Size: 4003.48\n",
      "Avg Max Depth: 22.54\n",
      "Minimum: [9.41, 9.8]\n",
      "Maximum: [43.662000000000056, 45.64600000000001]\n"
     ]
    }
   ],
   "source": [
    "merged = forest.copy().merge(50)\n",
    "merged.print_summary()\n",
    "merged.free()"
   ]
  },
  {
   "cell_type": "code",
   "execution_count": 7,
   "metadata": {},
   "outputs": [
    {
     "name": "stdout",
     "output_type": "stream",
     "text": [
      "x: [   6.   225.   100.  3233.    15.4   76.     1. ], f(x): 21.195999999999998\n"
     ]
    }
   ],
   "source": [
    "x = np.array([6, 225.0, 100.0, 3233, 15.4, 76, 1])\n",
    "delta = np.array([2, 40, 18, 250, 1.8, 1, 2])\n",
    "y = forest.eval(x)\n",
    "print(f\"x: {x}, f(x): {y}\")"
   ]
  },
  {
   "cell_type": "code",
   "execution_count": 8,
   "metadata": {},
   "outputs": [
    {
     "name": "stdout",
     "output_type": "stream",
     "text": [
      "Size of forest: 100\n",
      "Average Tree Size: 208.36\n",
      "Avg Max Depth: 14.97\n",
      "Minimum: [9.38, 9.8]\n",
      "Maximum: [43.662000000000056, 45.809]\n"
     ]
    }
   ],
   "source": [
    "forest.sample(x - delta, x + delta, 200_000)\n",
    "forest.print_summary()"
   ]
  },
  {
   "cell_type": "code",
   "execution_count": 9,
   "metadata": {},
   "outputs": [
    {
     "name": "stdout",
     "output_type": "stream",
     "text": [
      "Size of forest: 100\n",
      "Average Tree Size: 55.89\n",
      "Avg Max Depth: 11.04\n",
      "Minimum: [13.030000000000001, 14.326999999999998]\n",
      "Maximum: [28.826999999999998, 32.246]\n"
     ]
    }
   ],
   "source": [
    "copy = forest.copy().prune_box(x - 2 * delta, x + 2 * delta)\n",
    "copy.sample(x - 2 * delta, x + 2 * delta, 200_000)\n",
    "copy.print_summary()\n",
    "copy.free()"
   ]
  },
  {
   "cell_type": "code",
   "execution_count": 10,
   "metadata": {},
   "outputs": [
    {
     "name": "stdout",
     "output_type": "stream",
     "text": [
      "champ x: [   4.8  145.2   64.  2752.3   11.9   78.    -0.6]\n",
      "champ y: 29.218999999999994\n",
      "champ x: [  10.   292.4  133.  3730.2   19.    74.    -2.3]\n",
      "champ y: 14.214\n"
     ]
    }
   ],
   "source": [
    "max_x, max_y = query.pso_max(forest, x - 2 * delta, x + 2 * delta, N=20_000, max_iters=10)\n",
    "print(f\"champ x: {max_x}\")\n",
    "print(f\"champ y: {max_y}\")\n",
    "\n",
    "min_x, min_y = query.pso_min(forest, x - 2 * delta, x + 2 * delta, N=20_000, max_iters=10)\n",
    "print(f\"champ x: {min_x}\")\n",
    "print(f\"champ y: {min_y}\")"
   ]
  },
  {
   "cell_type": "code",
   "execution_count": 11,
   "metadata": {},
   "outputs": [],
   "source": [
    "pruned = forest.copy().prune_box(x - 2 * delta, x + 2 * delta)"
   ]
  },
  {
   "cell_type": "code",
   "execution_count": 12,
   "metadata": {},
   "outputs": [
    {
     "name": "stdout",
     "output_type": "stream",
     "text": [
      "Size of forest: 25\n",
      "Average Tree Size: 15416.04\n",
      "Avg Max Depth: 24.96\n",
      "Minimum: [13.337000000000002, None]\n",
      "Maximum: [None, 30.613000000000003]\n"
     ]
    }
   ],
   "source": [
    "merge1 = pruned.copy().merge(25)\n",
    "merge1.print_summary()\n",
    "merge1.free()"
   ]
  },
  {
   "cell_type": "code",
   "execution_count": 13,
   "metadata": {},
   "outputs": [
    {
     "name": "stdout",
     "output_type": "stream",
     "text": [
      "Size of forest: 5\n",
      "Average Tree Size: 42459.4\n",
      "Avg Max Depth: 28.4\n",
      "Minimum: [25.153999999999996, 29.218999999999994]\n",
      "Maximum: [29.218999999999994, 29.659000000000002]\n"
     ]
    }
   ],
   "source": [
    "merge3 = pruned.copy().merge_max(5, max_x, offset=-2)\n",
    "merge3.print_summary()\n",
    "min_opt_bound, max_opt_bound = merge3[0].find_max()\n",
    "merge3.free()"
   ]
  },
  {
   "cell_type": "code",
   "execution_count": 14,
   "metadata": {},
   "outputs": [
    {
     "name": "stdout",
     "output_type": "stream",
     "text": [
      "Size of forest: 5\n",
      "Average Tree Size: 37934.8\n",
      "Avg Max Depth: 29.8\n",
      "Minimum: [13.911, 14.214]\n",
      "Maximum: [14.214, 16.556]\n"
     ]
    }
   ],
   "source": [
    "merge4 = pruned.copy().merge_min(5, min_x, offset=1)\n",
    "merge4.print_summary()\n",
    "merge4.free()"
   ]
  },
  {
   "cell_type": "code",
   "execution_count": 15,
   "metadata": {},
   "outputs": [],
   "source": [
    "pruned.free()"
   ]
  },
  {
   "cell_type": "code",
   "execution_count": 16,
   "metadata": {},
   "outputs": [
    {
     "name": "stdout",
     "output_type": "stream",
     "text": [
      "True: 10\n",
      "False: 11\n",
      "None: 4\n"
     ]
    }
   ],
   "source": [
    "delta = np.array([2, 20, 10, 30, 1, 1, 1])\n",
    "eps = 4\n",
    "true, false, none = query.robustness_query_many(forest, auto_X[0:25], delta, eps, branch_and_bound=False)\n",
    "print(f\"True: {len(true)}\")\n",
    "print(f\"False: {len(false)}\")\n",
    "print(f\"None: {len(none)}\")"
   ]
  },
  {
   "cell_type": "code",
   "execution_count": 17,
   "metadata": {},
   "outputs": [
    {
     "name": "stdout",
     "output_type": "stream",
     "text": [
      "True: 11\n",
      "False: 12\n",
      "None: 2\n"
     ]
    }
   ],
   "source": [
    "true, false, none = query.robustness_query_many(forest, auto_X[0:25], delta, eps, pso_max_iters=5, merge_limit=3)\n",
    "print(f\"True: {len(true)}\")\n",
    "print(f\"False: {len(false)}\")\n",
    "print(f\"None: {len(none)}\")"
   ]
  },
  {
   "cell_type": "code",
   "execution_count": 18,
   "metadata": {},
   "outputs": [
    {
     "name": "stdout",
     "output_type": "stream",
     "text": [
      "True: 202\n",
      "False: 179\n",
      "None: 16\n"
     ]
    }
   ],
   "source": [
    "true, false, none = query.robustness_query_many(forest, auto_X, delta, eps, pso_max_iters=5, merge_limit=3)\n",
    "print(f\"True: {len(true)}\")\n",
    "print(f\"False: {len(false)}\")\n",
    "print(f\"None: {len(none)}\")"
   ]
  },
  {
   "cell_type": "code",
   "execution_count": null,
   "metadata": {},
   "outputs": [
    {
     "name": "stdout",
     "output_type": "stream",
     "text": [
      "True: 13\n",
      "False: 3\n",
      "None: 0\n"
     ]
    }
   ],
   "source": [
    "# Increase hyperparameters for remaining unproven points\n",
    "true, false, none = query.robustness_query_many(forest, none, delta, eps, pso_N=40_000, pso_max_iters=10, merge_limit=1)\n",
    "print(f\"True: {len(true)}\")\n",
    "print(f\"False: {len(false)}\")\n",
    "print(f\"None: {len(none)}\")"
   ]
  }
 ],
 "metadata": {
  "kernelspec": {
   "display_name": "IW25",
   "language": "python",
   "name": "python3"
  },
  "language_info": {
   "codemirror_mode": {
    "name": "ipython",
    "version": 3
   },
   "file_extension": ".py",
   "mimetype": "text/x-python",
   "name": "python",
   "nbconvert_exporter": "python",
   "pygments_lexer": "ipython3",
   "version": "3.13.2"
  }
 },
 "nbformat": 4,
 "nbformat_minor": 2
}
