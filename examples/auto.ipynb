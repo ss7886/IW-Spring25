{
 "cells": [
  {
   "cell_type": "code",
   "execution_count": 1,
   "metadata": {},
   "outputs": [],
   "source": [
    "import sys\n",
    "sys.path.append(\"..\")\n",
    "\n",
    "import numpy as np\n",
    "from sklearn.ensemble import RandomForestRegressor\n",
    "from sklearn.tree import DecisionTreeRegressor\n",
    "\n",
    "import dtree\n",
    "import dforest\n",
    "import query"
   ]
  },
  {
   "cell_type": "code",
   "execution_count": 2,
   "metadata": {},
   "outputs": [],
   "source": [
    "missing_data = lambda x : 100. if x == '?' else float(x)\n",
    "data = np.loadtxt(\"../datasets/Auto.data\", converters=missing_data, \n",
    "                    skiprows=1, usecols=[0, 1, 2, 3, 4, 5, 6, 7])\n",
    "\n",
    "np.random.seed(12345)\n",
    "np.random.shuffle(data)\n",
    "np.set_printoptions(precision=1, suppress=True)\n",
    "\n",
    "auto_X = data[:, 1:]\n",
    "auto_y = data[:, 0]"
   ]
  },
  {
   "cell_type": "code",
   "execution_count": 3,
   "metadata": {},
   "outputs": [],
   "source": [
    "model = RandomForestRegressor()\n",
    "model.fit(auto_X, auto_y)\n",
    "\n",
    "forest = dforest.make_forest_sklearn(model)"
   ]
  },
  {
   "cell_type": "code",
   "execution_count": 4,
   "metadata": {},
   "outputs": [],
   "source": [
    "noisy_samples = auto_X + np.random.normal(0, 0.1, auto_X.shape)\n",
    "pred = model.predict(noisy_samples)\n",
    "for i, sample in enumerate(noisy_samples):\n",
    "    assert round(forest.eval(sample), 6) == round(pred[i], 6)"
   ]
  },
  {
   "cell_type": "code",
   "execution_count": 5,
   "metadata": {},
   "outputs": [
    {
     "name": "stdout",
     "output_type": "stream",
     "text": [
      "Size of forest: 100\n",
      "Average Tree Size: 208.36\n",
      "Avg Max Depth: 14.97\n",
      "Minimum: [9.38, 9.8]\n",
      "Maximum: [43.662000000000056, 45.809]\n"
     ]
    }
   ],
   "source": [
    "forest.print_summary()"
   ]
  },
  {
   "cell_type": "code",
   "execution_count": 6,
   "metadata": {},
   "outputs": [
    {
     "name": "stdout",
     "output_type": "stream",
     "text": [
      "Size of forest: 25\n",
      "Average Tree Size: 123320.4\n",
      "Avg Max Depth: 31.4\n",
      "Minimum: [9.42, 9.8]\n",
      "Maximum: [43.662000000000056, 45.238]\n"
     ]
    }
   ],
   "source": [
    "merged = forest.copy().merge(25)\n",
    "merged.print_summary()\n",
    "merged.free()"
   ]
  },
  {
   "cell_type": "code",
   "execution_count": 13,
   "metadata": {},
   "outputs": [
    {
     "name": "stdout",
     "output_type": "stream",
     "text": [
      "Query holds\n",
      "f(x) <= 24\n",
      "6 trees, max bound: 23.961\n"
     ]
    },
    {
     "data": {
      "text/plain": [
       "True"
      ]
     },
     "execution_count": 13,
     "metadata": {},
     "output_type": "execute_result"
    }
   ],
   "source": [
    "x = np.array([6, 225.0, 100.0, 3233, 15.4, 76, 1])\n",
    "delta = np.array([2, 40, 18, 250, 1.8, 1, 2])\n",
    "y = 22\n",
    "epsilon = 2\n",
    "query.max_query(forest, x - delta, x + delta, y + epsilon, merge_limit=4, n_samples=500_000, verbose=True)"
   ]
  },
  {
   "cell_type": "code",
   "execution_count": 8,
   "metadata": {},
   "outputs": [],
   "source": [
    "# forest.free()"
   ]
  }
 ],
 "metadata": {
  "kernelspec": {
   "display_name": "IW25",
   "language": "python",
   "name": "python3"
  },
  "language_info": {
   "codemirror_mode": {
    "name": "ipython",
    "version": 3
   },
   "file_extension": ".py",
   "mimetype": "text/x-python",
   "name": "python",
   "nbconvert_exporter": "python",
   "pygments_lexer": "ipython3",
   "version": "3.13.2"
  }
 },
 "nbformat": 4,
 "nbformat_minor": 2
}
