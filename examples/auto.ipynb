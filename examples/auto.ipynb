{
 "cells": [
  {
   "cell_type": "code",
   "execution_count": 2,
   "metadata": {},
   "outputs": [],
   "source": [
    "import sys\n",
    "sys.path.append(\"..\")\n",
    "\n",
    "import numpy as np\n",
    "from sklearn.ensemble import RandomForestRegressor\n",
    "from sklearn.tree import DecisionTreeRegressor\n",
    "\n",
    "import dtree\n",
    "import dforest\n",
    "import query"
   ]
  },
  {
   "cell_type": "code",
   "execution_count": 3,
   "metadata": {},
   "outputs": [],
   "source": [
    "missing_data = lambda x : 100. if x == '?' else float(x)\n",
    "data = np.loadtxt(\"../datasets/Auto.data\", converters=missing_data, \n",
    "                    skiprows=1, usecols=[0, 1, 2, 3, 4, 5, 6, 7])\n",
    "\n",
    "np.random.seed(12345)\n",
    "np.random.shuffle(data)\n",
    "np.set_printoptions(precision=1, suppress=True)\n",
    "\n",
    "auto_X = data[:, 1:]\n",
    "auto_y = data[:, 0]"
   ]
  },
  {
   "cell_type": "code",
   "execution_count": 4,
   "metadata": {},
   "outputs": [],
   "source": [
    "model = RandomForestRegressor()\n",
    "model.fit(auto_X, auto_y)\n",
    "\n",
    "forest = dforest.make_forest_sklearn(model)"
   ]
  },
  {
   "cell_type": "code",
   "execution_count": 5,
   "metadata": {},
   "outputs": [],
   "source": [
    "noisy_samples = auto_X + np.random.normal(0, 0.1, auto_X.shape)\n",
    "model_pred = model.predict(noisy_samples)\n",
    "forest_pred = forest.eval(noisy_samples)\n",
    "for i, sample in enumerate(noisy_samples):\n",
    "    assert round(forest_pred[i], 6) == round(model_pred[i], 6)"
   ]
  },
  {
   "cell_type": "code",
   "execution_count": 6,
   "metadata": {},
   "outputs": [
    {
     "name": "stdout",
     "output_type": "stream",
     "text": [
      "Size of forest: 100\n",
      "Average Tree Size: 208.36\n",
      "Avg Max Depth: 14.97\n",
      "Minimum: [9.38, 9.8]\n",
      "Maximum: [43.662000000000056, 45.809]\n"
     ]
    }
   ],
   "source": [
    "forest.print_summary()"
   ]
  },
  {
   "cell_type": "code",
   "execution_count": 7,
   "metadata": {},
   "outputs": [
    {
     "name": "stdout",
     "output_type": "stream",
     "text": [
      "Size of forest: 50\n",
      "Average Tree Size: 4003.48\n",
      "Avg Max Depth: 22.54\n",
      "Minimum: [9.41, 9.8]\n",
      "Maximum: [43.662000000000056, 45.64600000000001]\n"
     ]
    }
   ],
   "source": [
    "merged = forest.copy().merge(50)\n",
    "merged.print_summary()\n",
    "merged.free()"
   ]
  },
  {
   "cell_type": "code",
   "execution_count": 8,
   "metadata": {},
   "outputs": [
    {
     "name": "stdout",
     "output_type": "stream",
     "text": [
      "Can not (dis)prove query.\n",
      "\n",
      "Query f(x) <= 26.195999999999998 holds\n",
      "100 trees, max bound: 25.784000000000002\n"
     ]
    }
   ],
   "source": [
    "x = np.array([6, 225.0, 100.0, 3233, 15.4, 76, 1])\n",
    "delta = np.array([2, 40, 18, 250, 1.8, 1, 2])\n",
    "y = forest.eval(x)\n",
    "epsilon = 5\n",
    "query.query(forest, x - delta, x + delta, y - epsilon, y + epsilon, merge_limit=25, verbose=True)"
   ]
  },
  {
   "cell_type": "code",
   "execution_count": 9,
   "metadata": {},
   "outputs": [
    {
     "name": "stdout",
     "output_type": "stream",
     "text": [
      "Size of forest: 100\n",
      "Average Tree Size: 208.36\n",
      "Avg Max Depth: 14.97\n",
      "Minimum: [9.38, 9.8]\n",
      "Maximum: [43.662000000000056, 45.809]\n"
     ]
    }
   ],
   "source": [
    "forest.sample(x - delta, x + delta, 200_000)\n",
    "forest.print_summary()"
   ]
  },
  {
   "cell_type": "code",
   "execution_count": 10,
   "metadata": {},
   "outputs": [
    {
     "name": "stdout",
     "output_type": "stream",
     "text": [
      "Size of forest: 100\n",
      "Average Tree Size: 55.89\n",
      "Avg Max Depth: 11.04\n",
      "Minimum: [13.030000000000001, 14.324000000000002]\n",
      "Maximum: [28.099000000000007, 32.246]\n"
     ]
    }
   ],
   "source": [
    "copy = forest.copy().prune_box(x - 2 * delta, x + 2 * delta)\n",
    "copy.sample(x - 2 * delta, x + 2 * delta, 200_000)\n",
    "copy.print_summary()\n",
    "copy.free()"
   ]
  },
  {
   "cell_type": "code",
   "execution_count": 11,
   "metadata": {},
   "outputs": [
    {
     "name": "stdout",
     "output_type": "stream",
     "text": [
      "champ x: [   4.4  145.    64.5 2759.1   11.8   78.    -3. ]\n",
      "champ y: 29.218999999999994\n",
      "champ x: [   7.9  294.7  133.1 3733.    19.    74.8    1.9]\n",
      "champ y: 14.214\n"
     ]
    }
   ],
   "source": [
    "champ_x, champ_y = query.pso_max(forest, x - 2 * delta, x + 2 * delta, N=20_000, max_iters=10)\n",
    "print(f\"champ x: {champ_x}\")\n",
    "print(f\"champ y: {champ_y}\")\n",
    "\n",
    "champ_x, champ_y = query.pso_min(forest, x - 2 * delta, x + 2 * delta, N=20_000, max_iters=10)\n",
    "print(f\"champ x: {champ_x}\")\n",
    "print(f\"champ y: {champ_y}\")"
   ]
  },
  {
   "cell_type": "code",
   "execution_count": null,
   "metadata": {},
   "outputs": [
    {
     "name": "stdout",
     "output_type": "stream",
     "text": [
      "[True, False, True, False, False, False, None, None, False, True, False, False, False, False, False, True, False, False, False, False, False, True, False, False, False]\n",
      "True: 5\n",
      "False: 18\n",
      "None: 2\n"
     ]
    }
   ],
   "source": [
    "robust = []\n",
    "delta = np.array([2, 20, 10, 30, 1, 1, 1])\n",
    "for x in auto_X[0:25]:\n",
    "    robust.append(query.robustness_query(forest, x, delta, 2))\n",
    "print(f\"True: {len(list(filter(lambda x: x == True, robust)))}\")\n",
    "print(f\"False: {len(list(filter(lambda x: x == False, robust)))}\")\n",
    "print(f\"None: {len(list(filter(lambda x: x is None, robust)))}\")"
   ]
  },
  {
   "cell_type": "code",
   "execution_count": 16,
   "metadata": {},
   "outputs": [
    {
     "name": "stdout",
     "output_type": "stream",
     "text": [
      "True: 10\n",
      "False: 11\n",
      "None: 4\n"
     ]
    }
   ],
   "source": [
    "robust = []\n",
    "delta = np.array([2, 20, 10, 30, 1, 1, 1])\n",
    "for x in auto_X[0:25]:\n",
    "    robust.append(query.robustness_query(forest, x, delta, 4))\n",
    "print(f\"True: {len(list(filter(lambda x: x == True, robust)))}\")\n",
    "print(f\"False: {len(list(filter(lambda x: x == False, robust)))}\")\n",
    "print(f\"None: {len(list(filter(lambda x: x is None, robust)))}\")"
   ]
  },
  {
   "cell_type": "code",
   "execution_count": 17,
   "metadata": {},
   "outputs": [
    {
     "name": "stdout",
     "output_type": "stream",
     "text": [
      "True: 178\n",
      "False: 171\n",
      "None: 48\n"
     ]
    }
   ],
   "source": [
    "robust = []\n",
    "delta = np.array([2, 20, 10, 30, 1, 1, 1])\n",
    "for x in auto_X:\n",
    "    robust.append(query.robustness_query(forest, x, delta, 4))\n",
    "print(f\"True: {len(list(filter(lambda x: x == True, robust)))}\")\n",
    "print(f\"False: {len(list(filter(lambda x: x == False, robust)))}\")\n",
    "print(f\"None: {len(list(filter(lambda x: x is None, robust)))}\")"
   ]
  }
 ],
 "metadata": {
  "kernelspec": {
   "display_name": "IW25",
   "language": "python",
   "name": "python3"
  },
  "language_info": {
   "codemirror_mode": {
    "name": "ipython",
    "version": 3
   },
   "file_extension": ".py",
   "mimetype": "text/x-python",
   "name": "python",
   "nbconvert_exporter": "python",
   "pygments_lexer": "ipython3",
   "version": "3.13.2"
  }
 },
 "nbformat": 4,
 "nbformat_minor": 2
}
