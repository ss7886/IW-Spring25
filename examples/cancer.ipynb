{
 "cells": [
  {
   "cell_type": "code",
   "execution_count": 1,
   "id": "3a1b8fce",
   "metadata": {},
   "outputs": [],
   "source": [
    "import sys\n",
    "sys.path.append(\"..\")\n",
    "\n",
    "import numpy as np\n",
    "from sklearn.datasets import load_breast_cancer\n",
    "from sklearn.ensemble import RandomForestClassifier, GradientBoostingClassifier\n",
    "\n",
    "import examples.util as util\n",
    "import dforest_class\n",
    "import query"
   ]
  },
  {
   "cell_type": "code",
   "execution_count": 2,
   "id": "2a3be86f",
   "metadata": {},
   "outputs": [],
   "source": [
    "# Numpy options\n",
    "np.random.seed(12345)\n",
    "np.set_printoptions(precision=4, suppress=True)"
   ]
  },
  {
   "cell_type": "code",
   "execution_count": 3,
   "id": "302b0c7b",
   "metadata": {},
   "outputs": [],
   "source": [
    "# Load dataset\n",
    "data_X, data_y = load_breast_cancer(return_X_y=True)\n",
    "data_X = data_X[:, 20:]\n",
    "\n",
    "# Shuffle and split data\n",
    "train_X, train_y, test_X, test_y = util.split(data_X, data_y)"
   ]
  },
  {
   "cell_type": "code",
   "execution_count": 4,
   "id": "db294f05",
   "metadata": {},
   "outputs": [
    {
     "name": "stdout",
     "output_type": "stream",
     "text": [
      "0.9473684210526315\n",
      "0.9385964912280702\n"
     ]
    }
   ],
   "source": [
    "rf_model = RandomForestClassifier(max_features=0.4)\n",
    "rf_model.fit(train_X, train_y)\n",
    "print(rf_model.score(test_X, test_y))\n",
    "\n",
    "gb_model = GradientBoostingClassifier()\n",
    "gb_model.fit(train_X, train_y)\n",
    "print(gb_model.score(test_X, test_y))"
   ]
  },
  {
   "cell_type": "code",
   "execution_count": 5,
   "id": "1774430d",
   "metadata": {},
   "outputs": [
    {
     "name": "stdout",
     "output_type": "stream",
     "text": [
      "# classes: 2\n",
      "Size of forests: [100, 100]\n",
      "Average Tree Size: 16.18\n",
      "Avg Max Depth: 7.02\n",
      "Class 0:\n",
      "Minimum: [0.0, None]\n",
      "Maximum: [None, 1.0]\n",
      "Class 1:\n",
      "Minimum: [0.0, None]\n",
      "Maximum: [None, 1.0]\n",
      "# classes: 2\n",
      "Size of forests: [100, 100]\n",
      "Average Tree Size: 7.35\n",
      "Avg Max Depth: 3.0\n",
      "Class 0:\n",
      "Minimum (raw): [-12.012096444552421, None]\n",
      "Maximum (raw): [None, 16.236497346217423]\n",
      "Class 1:\n",
      "Minimum (raw): [-16.236497346217423, None]\n",
      "Maximum (raw): [None, 12.012096444552421]\n"
     ]
    }
   ],
   "source": [
    "rf = dforest_class.make_forest_classifier_sklearn(rf_model)\n",
    "rf.print_summary()\n",
    "\n",
    "gb = dforest_class.make_forest_classifier_sklearn(gb_model, gb=True)\n",
    "gb.print_summary()"
   ]
  },
  {
   "cell_type": "code",
   "execution_count": 15,
   "id": "562755e5",
   "metadata": {},
   "outputs": [
    {
     "name": "stdout",
     "output_type": "stream",
     "text": [
      "True: 23\n",
      "False: 2\n",
      "None: 0\n"
     ]
    }
   ],
   "source": [
    "delta = np.std(train_X, 0) / 4\n",
    "\n",
    "res, cexs = query.multiclass_robustness_query_many(rf, test_X[0:25], delta)\n",
    "print(f\"True: {len(res[0])}\")\n",
    "print(f\"False: {len(res[1])}\")\n",
    "print(f\"None: {len(res[2])}\")"
   ]
  },
  {
   "cell_type": "code",
   "execution_count": 16,
   "id": "bf2f261c",
   "metadata": {},
   "outputs": [
    {
     "name": "stdout",
     "output_type": "stream",
     "text": [
      "True: 21\n",
      "False: 3\n",
      "None: 1\n"
     ]
    }
   ],
   "source": [
    "delta = np.std(train_X, 0) / 4\n",
    "\n",
    "res, cexs = query.multiclass_robustness_query_many(gb, test_X[0:25], delta)\n",
    "print(f\"True: {len(res[0])}\")\n",
    "print(f\"False: {len(res[1])}\")\n",
    "print(f\"None: {len(res[2])}\")"
   ]
  }
 ],
 "metadata": {
  "kernelspec": {
   "display_name": "IW25",
   "language": "python",
   "name": "python3"
  },
  "language_info": {
   "codemirror_mode": {
    "name": "ipython",
    "version": 3
   },
   "file_extension": ".py",
   "mimetype": "text/x-python",
   "name": "python",
   "nbconvert_exporter": "python",
   "pygments_lexer": "ipython3",
   "version": "3.13.2"
  }
 },
 "nbformat": 4,
 "nbformat_minor": 5
}
