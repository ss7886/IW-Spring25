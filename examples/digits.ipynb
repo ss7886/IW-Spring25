{
 "cells": [
  {
   "cell_type": "code",
   "execution_count": 1,
   "id": "3a1b8fce",
   "metadata": {},
   "outputs": [],
   "source": [
    "import sys\n",
    "sys.path.append(\"..\")\n",
    "\n",
    "import numpy as np\n",
    "from sklearn.datasets import load_digits\n",
    "from sklearn.ensemble import RandomForestClassifier, GradientBoostingClassifier\n",
    "\n",
    "import examples.util as util\n",
    "import dforest_class\n",
    "import query"
   ]
  },
  {
   "cell_type": "code",
   "execution_count": 2,
   "id": "2a3be86f",
   "metadata": {},
   "outputs": [],
   "source": [
    "# Numpy options\n",
    "np.random.seed(12345)\n",
    "np.set_printoptions(precision=4, suppress=True)"
   ]
  },
  {
   "cell_type": "code",
   "execution_count": 3,
   "id": "302b0c7b",
   "metadata": {},
   "outputs": [],
   "source": [
    "# Load dataset\n",
    "data_X, data_y = load_digits(return_X_y=True)\n",
    "\n",
    "# Shuffle and split data\n",
    "train_X, train_y, test_X, test_y = util.split(data_X, data_y)"
   ]
  },
  {
   "cell_type": "code",
   "execution_count": 4,
   "id": "db294f05",
   "metadata": {},
   "outputs": [
    {
     "name": "stdout",
     "output_type": "stream",
     "text": [
      "0.9666666666666667\n",
      "0.9611111111111111\n"
     ]
    }
   ],
   "source": [
    "rf_model = RandomForestClassifier(max_features=0.4)\n",
    "rf_model.fit(train_X, train_y)\n",
    "print(rf_model.score(test_X, test_y))\n",
    "\n",
    "gb_model = GradientBoostingClassifier()\n",
    "gb_model.fit(train_X, train_y)\n",
    "print(gb_model.score(test_X, test_y))"
   ]
  },
  {
   "cell_type": "code",
   "execution_count": 5,
   "id": "1774430d",
   "metadata": {},
   "outputs": [
    {
     "name": "stdout",
     "output_type": "stream",
     "text": [
      "# classes: 10\n",
      "Size of forests: [100, 100, 100, 100, 100, 100, 100, 100, 100, 100]\n",
      "Average Tree Size: 124.59\n",
      "Avg Max Depth: 12.7\n",
      "Class 0:\n",
      "Minimum: [0.0, None]\n",
      "Maximum: [None, 1.0]\n",
      "Class 1:\n",
      "Minimum: [0.0, None]\n",
      "Maximum: [None, 1.0]\n",
      "Class 2:\n",
      "Minimum: [0.0, None]\n",
      "Maximum: [None, 1.0]\n",
      "Class 3:\n",
      "Minimum: [0.0, None]\n",
      "Maximum: [None, 1.0]\n",
      "Class 4:\n",
      "Minimum: [0.0, None]\n",
      "Maximum: [None, 1.0]\n",
      "Class 5:\n",
      "Minimum: [0.0, None]\n",
      "Maximum: [None, 1.0]\n",
      "Class 6:\n",
      "Minimum: [0.0, None]\n",
      "Maximum: [None, 1.0]\n",
      "Class 7:\n",
      "Minimum: [0.0, None]\n",
      "Maximum: [None, 1.0]\n",
      "Class 8:\n",
      "Minimum: [0.0, None]\n",
      "Maximum: [None, 1.0]\n",
      "Class 9:\n",
      "Minimum: [0.0, None]\n",
      "Maximum: [None, 1.0]\n",
      "# classes: 10\n",
      "Size of forests: [100, 100, 100, 100, 100, 100, 100, 100, 100, 100]\n",
      "Average Tree Size: 7.845000000000001\n",
      "Avg Max Depth: 3.0\n",
      "Class 0:\n",
      "Minimum (raw): [-9.368093113522539, None]\n",
      "Maximum (raw): [None, 11.004181119450235]\n",
      "Class 1:\n",
      "Minimum (raw): [-8.47833454135785, None]\n",
      "Maximum (raw): [None, 13.714065921021692]\n",
      "Class 2:\n",
      "Minimum (raw): [-8.491838050112941, None]\n",
      "Maximum (raw): [None, 12.832634252059233]\n",
      "Class 3:\n",
      "Minimum (raw): [-8.690981056340322, None]\n",
      "Maximum (raw): [None, 13.031451418249647]\n",
      "Class 4:\n",
      "Minimum (raw): [-8.869447608554875, None]\n",
      "Maximum (raw): [None, 15.993933398119802]\n",
      "Class 5:\n",
      "Minimum (raw): [-9.099918254339235, None]\n",
      "Maximum (raw): [None, 14.114344502419877]\n",
      "Class 6:\n",
      "Minimum (raw): [-9.154060498165205, None]\n",
      "Maximum (raw): [None, 13.455366466283778]\n",
      "Class 7:\n",
      "Minimum (raw): [-9.176792925641443, None]\n",
      "Maximum (raw): [None, 14.153162516316891]\n",
      "Class 8:\n",
      "Minimum (raw): [-8.719590418008941, None]\n",
      "Maximum (raw): [None, 11.473403239584474]\n",
      "Class 9:\n",
      "Minimum (raw): [-8.700087413106747, None]\n",
      "Maximum (raw): [None, 14.502848059638573]\n"
     ]
    }
   ],
   "source": [
    "rf = dforest_class.make_forest_classifier_sklearn(rf_model)\n",
    "rf.print_summary()\n",
    "\n",
    "gb = dforest_class.make_forest_classifier_sklearn(gb_model, gb=True)\n",
    "gb.print_summary()"
   ]
  },
  {
   "cell_type": "code",
   "execution_count": 6,
   "id": "1e875af0",
   "metadata": {},
   "outputs": [
    {
     "name": "stdout",
     "output_type": "stream",
     "text": [
      "[0.1009 0.0995 0.1016 0.096  0.1065 0.1044 0.103  0.0891 0.0981 0.1009]\n"
     ]
    }
   ],
   "source": [
    "constant = gb_model.init_.class_prior_\n",
    "print(constant)"
   ]
  },
  {
   "cell_type": "code",
   "execution_count": 9,
   "id": "9ada71f4",
   "metadata": {},
   "outputs": [
    {
     "name": "stdout",
     "output_type": "stream",
     "text": [
      "[[0.3671 0.0023 0.0146 0.1476 0.1208 0.0016 0.0004 0.3333 0.0069 0.0053]]\n",
      "[[0.8076 0.0032 0.0525 0.0595 0.0068 0.0017 0.0007 0.0517 0.0084 0.0078]\n",
      " [0.0004 0.0012 0.953  0.0135 0.0138 0.0005 0.0002 0.0105 0.0039 0.0029]\n",
      " [0.001  0.0055 0.0583 0.8397 0.0249 0.0016 0.0008 0.0564 0.0063 0.0054]\n",
      " [0.0008 0.0018 0.0221 0.0264 0.9081 0.0021 0.0005 0.0261 0.0074 0.0047]\n",
      " [0.0003 0.0009 0.0113 0.0112 0.0068 0.0003 0.0001 0.9666 0.0016 0.0009]]\n"
     ]
    }
   ],
   "source": [
    "x = test_X[222]\n",
    "delta = np.ones(gb.dim)\n",
    "min_bound = np.clip(x - delta, 0, 16)\n",
    "max_bound = np.clip(x + delta, 0, 16)\n",
    "\n",
    "x0, y0 = query.pso_one_class(gb, 0, min_bound, max_bound)\n",
    "x2, y2 = query.pso_one_class(gb, 2, min_bound, max_bound)\n",
    "x3, y3 = query.pso_one_class(gb, 3, min_bound, max_bound)\n",
    "x4, y4 = query.pso_one_class(gb, 4, min_bound, max_bound)\n",
    "x7, y7 = query.pso_one_class(gb, 7, min_bound, max_bound)\n",
    "\n",
    "x0 = np.round(x0)\n",
    "x2 = np.round(x2)\n",
    "x3 = np.round(x3)\n",
    "x4 = np.round(x4)\n",
    "x7 = np.round(x7)\n",
    "print(gb_model.predict_proba([x]))\n",
    "print(gb_model.predict_proba([x0, x2, x3, x4, x7]))"
   ]
  },
  {
   "cell_type": "code",
   "execution_count": 10,
   "id": "43f76e9d",
   "metadata": {},
   "outputs": [
    {
     "data": {
      "text/plain": [
       "<matplotlib.image.AxesImage at 0x25693371d10>"
      ]
     },
     "execution_count": 10,
     "metadata": {},
     "output_type": "execute_result"
    },
    {
     "data": {
      "image/png": "[encoded data removed]",
      "text/plain": [
       "<Figure size 640x480 with 6 Axes>"
      ]
     },
     "metadata": {},
     "output_type": "display_data"
    }
   ],
   "source": [
    "import matplotlib.pyplot as plt\n",
    "\n",
    "fig, ax = plt.subplots(2, 3)\n",
    "ax[0][0].imshow(x.reshape((8, 8)), cmap=\"gray\")\n",
    "ax[0][1].imshow(x0.reshape((8, 8)), cmap=\"gray\")\n",
    "ax[0][2].imshow(x2.reshape((8, 8)), cmap=\"gray\")\n",
    "ax[1][0].imshow(x3.reshape((8, 8)), cmap=\"gray\")\n",
    "ax[1][1].imshow(x4.reshape((8, 8)), cmap=\"gray\")\n",
    "ax[1][2].imshow(x7.reshape((8, 8)), cmap=\"gray\")"
   ]
  },
  {
   "cell_type": "code",
   "execution_count": 11,
   "id": "a036808e",
   "metadata": {},
   "outputs": [
    {
     "name": "stdout",
     "output_type": "stream",
     "text": [
      "True: 17\n",
      "False: 3\n",
      "None: 5\n"
     ]
    }
   ],
   "source": [
    "res, cexs = query.multiclass_robustness_query_many(rf, test_X[0:25], delta, 0, 16)\n",
    "print(f\"True: {len(res[0])}\")\n",
    "print(f\"False: {len(res[1])}\")\n",
    "print(f\"None: {len(res[2])}\")"
   ]
  },
  {
   "cell_type": "code",
   "execution_count": 29,
   "id": "c4ee7282",
   "metadata": {},
   "outputs": [
    {
     "name": "stdout",
     "output_type": "stream",
     "text": [
      "True: 15\n",
      "False: 9\n",
      "None: 1\n"
     ]
    }
   ],
   "source": [
    "res, cexs = query.multiclass_robustness_query_many(gb, test_X[0:25], delta, 0, 16)\n",
    "cexs = np.round(cexs)\n",
    "print(f\"True: {len(res[0])}\")\n",
    "print(f\"False: {len(res[1])}\")\n",
    "print(f\"None: {len(res[2])}\")"
   ]
  },
  {
   "cell_type": "code",
   "execution_count": 30,
   "id": "f59efdab",
   "metadata": {},
   "outputs": [
    {
     "name": "stdout",
     "output_type": "stream",
     "text": [
      "[1 7 0 5 9 7 1 7 6]\n",
      "[2 2 2 9 2 2 2 2 4]\n",
      "[[0.     0.9818 0.0005 0.0021 0.0012 0.0016 0.0004 0.0003 0.0106 0.0015]\n",
      " [0.     0.     0.     0.     0.     0.     0.     0.9999 0.     0.    ]\n",
      " [1.     0.     0.     0.     0.     0.     0.     0.     0.     0.    ]\n",
      " [0.0001 0.0031 0.0005 0.0019 0.0024 0.8258 0.0003 0.0014 0.0018 0.1626]\n",
      " [0.0003 0.0047 0.0047 0.021  0.0073 0.0506 0.0005 0.0039 0.0128 0.8941]\n",
      " [0.     0.0008 0.0005 0.0037 0.0016 0.0006 0.0002 0.9706 0.0075 0.0145]\n",
      " [0.     0.9991 0.0005 0.     0.     0.0002 0.     0.     0.0001 0.    ]\n",
      " [0.     0.0002 0.0006 0.0003 0.0001 0.0001 0.     0.9965 0.002  0.0002]\n",
      " [0.     0.     0.     0.     0.     0.0001 0.9993 0.     0.0006 0.    ]]\n",
      "[[0.     0.0114 0.9083 0.002  0.052  0.002  0.0005 0.0003 0.0216 0.0018]\n",
      " [0.     0.0028 0.7167 0.0102 0.006  0.0101 0.0002 0.1535 0.0853 0.0152]\n",
      " [0.0223 0.0014 0.9469 0.0054 0.0111 0.0006 0.0002 0.0007 0.0032 0.0083]\n",
      " [0.0007 0.056  0.0046 0.0242 0.0695 0.0089 0.0022 0.0339 0.0382 0.7617]\n",
      " [0.0001 0.0016 0.8302 0.0251 0.0112 0.0096 0.0002 0.0004 0.0111 0.1105]\n",
      " [0.     0.0012 0.6303 0.0076 0.0043 0.0008 0.0004 0.3224 0.0142 0.0188]\n",
      " [0.     0.4259 0.4658 0.0008 0.0061 0.0878 0.0008 0.     0.0114 0.0014]\n",
      " [0.     0.0001 0.7308 0.0003 0.0001 0.     0.     0.2668 0.0017 0.0001]\n",
      " [0.0001 0.0167 0.0005 0.0025 0.4711 0.0052 0.4222 0.0006 0.0782 0.0029]]\n"
     ]
    }
   ],
   "source": [
    "print(gb.eval(np.array(res[1])))\n",
    "print(gb.eval(np.array(cexs)))\n",
    "print(gb.eval(np.array(res[1]), True))\n",
    "print(gb.eval(np.array(cexs), True))"
   ]
  },
  {
   "cell_type": "code",
   "execution_count": 31,
   "id": "41b2bc8c",
   "metadata": {},
   "outputs": [
    {
     "data": {
      "text/plain": [
       "<matplotlib.image.AxesImage at 0x256a9e19450>"
      ]
     },
     "execution_count": 31,
     "metadata": {},
     "output_type": "execute_result"
    },
    {
     "data": {
      "image/png": "[encoded data removed]",
      "text/plain": [
       "<Figure size 640x480 with 3 Axes>"
      ]
     },
     "metadata": {},
     "output_type": "display_data"
    }
   ],
   "source": [
    "i = 0\n",
    "\n",
    "original = res[1][i].reshape((8, 8))\n",
    "perturbed = cexs[i].reshape((8, 8))\n",
    "\n",
    "fig, ax = plt.subplots(1, 3)\n",
    "ax[0].imshow(original, cmap=\"gray\")\n",
    "ax[1].imshow(perturbed, cmap=\"gray\")\n",
    "ax[2].imshow(perturbed - original, cmap=\"gray\")"
   ]
  },
  {
   "cell_type": "code",
   "execution_count": 32,
   "id": "37b74080",
   "metadata": {},
   "outputs": [
    {
     "data": {
      "text/plain": [
       "<matplotlib.image.AxesImage at 0x256a821a490>"
      ]
     },
     "execution_count": 32,
     "metadata": {},
     "output_type": "execute_result"
    },
    {
     "data": {
      "image/png": "[encoded data removed]",
      "text/plain": [
       "<Figure size 640x480 with 3 Axes>"
      ]
     },
     "metadata": {},
     "output_type": "display_data"
    }
   ],
   "source": [
    "i = 2\n",
    "\n",
    "original = res[1][i].reshape((8, 8))\n",
    "perturbed = cexs[i].reshape((8, 8))\n",
    "\n",
    "fig, ax = plt.subplots(1, 3)\n",
    "ax[0].imshow(original, cmap=\"gray\")\n",
    "ax[1].imshow(perturbed, cmap=\"gray\")\n",
    "ax[2].imshow(perturbed - original, cmap=\"gray\")"
   ]
  }
 ],
 "metadata": {
  "kernelspec": {
   "display_name": "IW25",
   "language": "python",
   "name": "python3"
  },
  "language_info": {
   "codemirror_mode": {
    "name": "ipython",
    "version": 3
   },
   "file_extension": ".py",
   "mimetype": "text/x-python",
   "name": "python",
   "nbconvert_exporter": "python",
   "pygments_lexer": "ipython3",
   "version": "3.13.2"
  }
 },
 "nbformat": 4,
 "nbformat_minor": 5
}
